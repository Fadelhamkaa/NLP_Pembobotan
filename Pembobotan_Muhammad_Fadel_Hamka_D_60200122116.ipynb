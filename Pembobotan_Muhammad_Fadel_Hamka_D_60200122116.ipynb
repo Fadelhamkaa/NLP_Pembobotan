{
  "nbformat": 4,
  "nbformat_minor": 0,
  "metadata": {
    "colab": {
      "provenance": [],
      "authorship_tag": "ABX9TyNEK4jlW68z3vDmhLZGtLEf",
      "include_colab_link": true
    },
    "kernelspec": {
      "name": "python3",
      "display_name": "Python 3"
    },
    "language_info": {
      "name": "python"
    }
  },
  "cells": [
    {
      "cell_type": "markdown",
      "metadata": {
        "id": "view-in-github",
        "colab_type": "text"
      },
      "source": [
        "<a href=\"https://colab.research.google.com/github/Fadelhamkaa/NLP_Pembobotan/blob/main/Pembobotan_Muhammad_Fadel_Hamka_D_60200122116.ipynb\" target=\"_parent\"><img src=\"https://colab.research.google.com/assets/colab-badge.svg\" alt=\"Open In Colab\"/></a>"
      ]
    },
    {
      "cell_type": "code",
      "source": [
        "# Langkah 1: Import Library yang Diperlukan\n",
        "from sklearn.feature_extraction.text import CountVectorizer, TfidfTransformer"
      ],
      "metadata": {
        "id": "oClBXhOyh4JS"
      },
      "execution_count": 1,
      "outputs": []
    },
    {
      "cell_type": "code",
      "source": [
        "# Langkah 2: Definisikan Dokumen dalam Bentuk List\n",
        "list_dokumen = [\n",
        "    \"Jam tangan ini bisa tersambung dengan ponsel.\",\n",
        "    \"Jam memiliki notifikasi untuk pesan dan panggilan.\",\n",
        "    \"Baterai jam tangan tahan lama dan mudah diisi ulang.\"\n",
        "]"
      ],
      "metadata": {
        "id": "mJsG2h2Ih5mJ"
      },
      "execution_count": 2,
      "outputs": []
    },
    {
      "cell_type": "code",
      "source": [
        "# Langkah 3: Menghitung Term Frequency dengan CountVectorizer\n",
        "# Inisialisasi CountVectorizer untuk menghitung frekuensi term\n",
        "vectorizer = CountVectorizer()\n",
        "X = vectorizer.fit_transform(list_dokumen)"
      ],
      "metadata": {
        "id": "l_296zdSh5pe"
      },
      "execution_count": 3,
      "outputs": []
    },
    {
      "cell_type": "code",
      "source": [
        "# Langkah 4: Menampilkan Unique Terms (Vocabulary) dengan Indeks\n",
        "print(\"Unique terms (Vocabulary):\\n\", vectorizer.get_feature_names_out())\n",
        "print(\"\\nVocabulary Dictionary:\")\n",
        "for term, index in vectorizer.vocabulary_.items():\n",
        "    print(f\"{term}: {index}\")"
      ],
      "metadata": {
        "colab": {
          "base_uri": "https://localhost:8080/"
        },
        "id": "Zq5zYTU2iM8Q",
        "outputId": "ce32bf57-3d0b-4b4b-ac3a-f3023042debc"
      },
      "execution_count": 19,
      "outputs": [
        {
          "output_type": "stream",
          "name": "stdout",
          "text": [
            "Unique terms (Vocabulary):\n",
            " ['bersih' 'dan' 'fasilitas' 'hotel' 'hotelnya' 'indah' 'ini' 'kamar'\n",
            " 'lengkap' 'lezat' 'luas' 'makanan' 'memiliki' 'nyaman' 'pelayanan'\n",
            " 'pemandangan' 'ramah' 'sangat' 'yang']\n",
            "\n",
            "Vocabulary Dictionary:\n",
            "hotel: 3\n",
            "ini: 6\n",
            "sangat: 17\n",
            "nyaman: 13\n",
            "dan: 1\n",
            "bersih: 0\n",
            "kamar: 7\n",
            "hotelnya: 4\n",
            "luas: 10\n",
            "fasilitas: 2\n",
            "lengkap: 8\n",
            "pelayanan: 14\n",
            "ramah: 16\n",
            "memiliki: 12\n",
            "pemandangan: 15\n",
            "yang: 18\n",
            "indah: 5\n",
            "makanan: 11\n",
            "lezat: 9\n"
          ]
        }
      ]
    },
    {
      "cell_type": "code",
      "source": [
        "# Langkah 5: Menampilkan Term Frequency secara Keseluruhan\n",
        "# Konversi hasil ke array untuk melihat nilai term frequency\n",
        "print(\"\\nTerm Frequency (TF) Matrix:\\n\", X.toarray())"
      ],
      "metadata": {
        "colab": {
          "base_uri": "https://localhost:8080/"
        },
        "id": "RjVPqDm1iM_h",
        "outputId": "f099097e-7b30-47b8-9160-d69b4423671d"
      },
      "execution_count": 5,
      "outputs": [
        {
          "output_type": "stream",
          "name": "stdout",
          "text": [
            "\n",
            "Term Frequency (TF) Matrix:\n",
            " [[0 1 0 1 0 1 1 0 0 0 0 0 0 1 0 1 1 0 0]\n",
            " [0 0 1 0 0 0 1 0 1 0 1 1 1 0 0 0 0 0 1]\n",
            " [1 0 1 0 1 0 1 1 0 1 0 0 0 0 1 1 0 1 0]]\n"
          ]
        }
      ]
    },
    {
      "cell_type": "code",
      "source": [
        "# Langkah 6: Transformasi Vocabulary Documents ke Matriks Term Frequency\n",
        "# Menampilkan hasil Transformasi dalam bentuk Matriks Term Frequency\n",
        "print(\"\\nMatriks Term Frequency untuk Dokumen-Dokumen:\\n\", X.toarray())"
      ],
      "metadata": {
        "colab": {
          "base_uri": "https://localhost:8080/"
        },
        "id": "9Vc6QcWLiNCG",
        "outputId": "6d1ee028-d6de-4048-8153-30c3680af337"
      },
      "execution_count": 6,
      "outputs": [
        {
          "output_type": "stream",
          "name": "stdout",
          "text": [
            "\n",
            "Matriks Term Frequency untuk Dokumen-Dokumen:\n",
            " [[0 1 0 1 0 1 1 0 0 0 0 0 0 1 0 1 1 0 0]\n",
            " [0 0 1 0 0 0 1 0 1 0 1 1 1 0 0 0 0 0 1]\n",
            " [1 0 1 0 1 0 1 1 0 1 0 0 0 0 1 1 0 1 0]]\n"
          ]
        }
      ]
    },
    {
      "cell_type": "code",
      "source": [
        "# Langkah 7: Menampilkan Term Frequency untuk Dokumen Tertentu\n",
        "# Misalnya, mengambil dokumen pertama (indeks ke-0)\n",
        "komentar_tf = X[0].toarray()  # Dokumen pertama dalam format matriks TF\n",
        "print(\"\\nTerm Frequency untuk Dokumen Pertama:\\n\", komentar_tf)"
      ],
      "metadata": {
        "colab": {
          "base_uri": "https://localhost:8080/"
        },
        "id": "0GYtc3y0h5sl",
        "outputId": "0ae3aed0-162c-4c8f-c009-e697aa223f86"
      },
      "execution_count": 7,
      "outputs": [
        {
          "output_type": "stream",
          "name": "stdout",
          "text": [
            "\n",
            "Term Frequency untuk Dokumen Pertama:\n",
            " [[0 1 0 1 0 1 1 0 0 0 0 0 0 1 0 1 1 0 0]]\n"
          ]
        }
      ]
    },
    {
      "cell_type": "code",
      "source": [
        "# Menampilkan term tertentu berdasarkan indeks (misalnya, indeks ke-2 dari vocabulary)\n",
        "index_term = 2  # Indeks term tertentu\n",
        "term_name = vectorizer.get_feature_names_out()[index_term]\n",
        "print(f\"\\nTerm '{term_name}' pada Dokumen Pertama memiliki frekuensi:\", komentar_tf[0][index_term])"
      ],
      "metadata": {
        "colab": {
          "base_uri": "https://localhost:8080/"
        },
        "id": "wHBtZAJ_h5vX",
        "outputId": "3efed6d4-e796-4f51-c96a-25c7d0e5d077"
      },
      "execution_count": 8,
      "outputs": [
        {
          "output_type": "stream",
          "name": "stdout",
          "text": [
            "\n",
            "Term 'dan' pada Dokumen Pertama memiliki frekuensi: 0\n"
          ]
        }
      ]
    },
    {
      "cell_type": "markdown",
      "source": [
        "# **MENGHITUNG TF-IDF MENGGUNAKAN SKLEARN**"
      ],
      "metadata": {
        "id": "bvM5Vs78idW4"
      }
    },
    {
      "cell_type": "code",
      "source": [
        "# Import Library yang Diperlukan\n",
        "from sklearn.feature_extraction.text import CountVectorizer, TfidfTransformer"
      ],
      "metadata": {
        "id": "B1K4ov1Zh4Mq"
      },
      "execution_count": 9,
      "outputs": []
    },
    {
      "cell_type": "code",
      "source": [
        "# Definisikan Dokumen dalam Bentuk List\n",
        "list_dokumen = [\n",
        "    \"Hotel ini sangat nyaman dan bersih.\",\n",
        "    \"Kamar hotelnya luas, fasilitas lengkap, dan pelayanan ramah.\",\n",
        "    \"Hotel ini memiliki pemandangan yang indah dan makanan yang lezat.\"\n",
        "]"
      ],
      "metadata": {
        "id": "-bWGGUtVihnk"
      },
      "execution_count": 10,
      "outputs": []
    },
    {
      "cell_type": "code",
      "source": [
        "# Menghitung Term Frequency dengan CountVectorizer\n",
        "vectorizer = CountVectorizer()\n",
        "X = vectorizer.fit_transform(list_dokumen)"
      ],
      "metadata": {
        "id": "CF9TQTBDihrG"
      },
      "execution_count": 11,
      "outputs": []
    },
    {
      "cell_type": "code",
      "source": [
        "# Menghitung TF-IDF dengan TfidfTransformer\n",
        "tfidf_transformer = TfidfTransformer()\n",
        "X_tfidf = tfidf_transformer.fit_transform(X)"
      ],
      "metadata": {
        "id": "779xepfwihuC"
      },
      "execution_count": 12,
      "outputs": []
    },
    {
      "cell_type": "code",
      "source": [
        "# 1. Menghitung Nilai TF-IDF untuk Dokumen/Kalimat Tertentu\n",
        "# Contoh, menghitung TF-IDF untuk dokumen pertama\n",
        "dokumen_pertama_tfidf = X_tfidf[0].toarray()\n",
        "print(\"TF-IDF untuk Dokumen Pertama:\\n\", dokumen_pertama_tfidf)"
      ],
      "metadata": {
        "colab": {
          "base_uri": "https://localhost:8080/"
        },
        "id": "WgqNXr9Kihw2",
        "outputId": "be7bf7dc-f3fa-4cfe-8d30-81c47824df9e"
      },
      "execution_count": 13,
      "outputs": [
        {
          "output_type": "stream",
          "name": "stdout",
          "text": [
            "TF-IDF untuk Dokumen Pertama:\n",
            " [[0.4711101  0.27824521 0.         0.35829137 0.         0.\n",
            "  0.35829137 0.         0.         0.         0.         0.\n",
            "  0.         0.4711101  0.         0.         0.         0.4711101\n",
            "  0.        ]]\n"
          ]
        }
      ]
    },
    {
      "cell_type": "code",
      "source": [
        "# 2. Menghitung Nilai IDF untuk Setiap Term di Dokumen\n",
        "idf_values = tfidf_transformer.idf_\n",
        "terms = vectorizer.get_feature_names_out()\n",
        "idf_dict = dict(zip(terms, idf_values))\n",
        "print(\"\\nNilai IDF untuk Setiap Term:\\n\", idf_dict)"
      ],
      "metadata": {
        "colab": {
          "base_uri": "https://localhost:8080/"
        },
        "id": "3vZzc2LGihzy",
        "outputId": "821847e6-f044-47fa-f68d-008c99b456c1"
      },
      "execution_count": 14,
      "outputs": [
        {
          "output_type": "stream",
          "name": "stdout",
          "text": [
            "\n",
            "Nilai IDF untuk Setiap Term:\n",
            " {'bersih': 1.6931471805599454, 'dan': 1.0, 'fasilitas': 1.6931471805599454, 'hotel': 1.2876820724517808, 'hotelnya': 1.6931471805599454, 'indah': 1.6931471805599454, 'ini': 1.2876820724517808, 'kamar': 1.6931471805599454, 'lengkap': 1.6931471805599454, 'lezat': 1.6931471805599454, 'luas': 1.6931471805599454, 'makanan': 1.6931471805599454, 'memiliki': 1.6931471805599454, 'nyaman': 1.6931471805599454, 'pelayanan': 1.6931471805599454, 'pemandangan': 1.6931471805599454, 'ramah': 1.6931471805599454, 'sangat': 1.6931471805599454, 'yang': 1.6931471805599454}\n"
          ]
        }
      ]
    },
    {
      "cell_type": "code",
      "source": [
        "# 3. Menghitung Nilai IDF untuk Term Tertentu\n",
        "# Misalnya, IDF untuk term 'hotel'\n",
        "term = 'hotel'\n",
        "idf_term = idf_dict.get(term, \"Term tidak ditemukan\")\n",
        "print(f\"\\nIDF untuk term '{term}': {idf_term}\")"
      ],
      "metadata": {
        "colab": {
          "base_uri": "https://localhost:8080/"
        },
        "id": "YtJzsJCzir2-",
        "outputId": "30aacfff-2884-4e7b-d8d3-1c38c43bcac5"
      },
      "execution_count": 15,
      "outputs": [
        {
          "output_type": "stream",
          "name": "stdout",
          "text": [
            "\n",
            "IDF untuk term 'hotel': 1.2876820724517808\n"
          ]
        }
      ]
    },
    {
      "cell_type": "code",
      "source": [
        "# 4. Menghitung Nilai TF-IDF untuk Seluruh Dokumen\n",
        "print(\"\\nTF-IDF untuk Seluruh Dokumen:\\n\", X_tfidf.toarray())"
      ],
      "metadata": {
        "colab": {
          "base_uri": "https://localhost:8080/"
        },
        "id": "qrMgapmRir7Q",
        "outputId": "7f376f42-977c-41b6-af78-fd210703a942"
      },
      "execution_count": 16,
      "outputs": [
        {
          "output_type": "stream",
          "name": "stdout",
          "text": [
            "\n",
            "TF-IDF untuk Seluruh Dokumen:\n",
            " [[0.4711101  0.27824521 0.         0.35829137 0.         0.\n",
            "  0.35829137 0.         0.         0.         0.         0.\n",
            "  0.         0.4711101  0.         0.         0.         0.4711101\n",
            "  0.        ]\n",
            " [0.         0.21786941 0.36888498 0.         0.36888498 0.\n",
            "  0.         0.36888498 0.36888498 0.         0.36888498 0.\n",
            "  0.         0.         0.36888498 0.         0.36888498 0.\n",
            "  0.        ]\n",
            " [0.         0.18221927 0.         0.23464049 0.         0.30852405\n",
            "  0.23464049 0.         0.         0.30852405 0.         0.30852405\n",
            "  0.30852405 0.         0.         0.30852405 0.         0.\n",
            "  0.6170481 ]]\n"
          ]
        }
      ]
    },
    {
      "cell_type": "code",
      "source": [],
      "metadata": {
        "id": "rGPG0p9Mir-b"
      },
      "execution_count": 16,
      "outputs": []
    },
    {
      "cell_type": "code",
      "source": [],
      "metadata": {
        "id": "RvjWRWxAisB-"
      },
      "execution_count": 16,
      "outputs": []
    },
    {
      "cell_type": "code",
      "source": [],
      "metadata": {
        "id": "TMLvVuU5isFT"
      },
      "execution_count": 16,
      "outputs": []
    }
  ]
}