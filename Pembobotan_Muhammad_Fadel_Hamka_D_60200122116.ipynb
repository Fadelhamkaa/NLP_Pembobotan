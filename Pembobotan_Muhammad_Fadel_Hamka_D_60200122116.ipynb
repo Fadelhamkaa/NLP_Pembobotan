{
  "nbformat": 4,
  "nbformat_minor": 0,
  "metadata": {
    "colab": {
      "provenance": [],
      "authorship_tag": "ABX9TyNjjXgLZ6rWFAyWp1FE4hAO",
      "include_colab_link": true
    },
    "kernelspec": {
      "name": "python3",
      "display_name": "Python 3"
    },
    "language_info": {
      "name": "python"
    }
  },
  "cells": [
    {
      "cell_type": "markdown",
      "metadata": {
        "id": "view-in-github",
        "colab_type": "text"
      },
      "source": [
        "<a href=\"https://colab.research.google.com/github/Fadelhamkaa/NLP_Pembobotan/blob/main/Pembobotan_Muhammad_Fadel_Hamka_D_60200122116.ipynb\" target=\"_parent\"><img src=\"https://colab.research.google.com/assets/colab-badge.svg\" alt=\"Open In Colab\"/></a>"
      ]
    },
    {
      "cell_type": "code",
      "source": [
        "# Langkah 1: Import Library yang Diperlukan\n",
        "from sklearn.feature_extraction.text import CountVectorizer, TfidfTransformer"
      ],
      "metadata": {
        "id": "oClBXhOyh4JS"
      },
      "execution_count": 39,
      "outputs": []
    },
    {
      "cell_type": "code",
      "source": [
        "# Langkah 2: Definisikan Dokumen dalam Bentuk List\n",
        "list_dokumen = [\n",
        "    \"Jam tangan ini bisa tersambung dengan ponsel.\",\n",
        "    \"Jam memiliki notifikasi untuk pesan dan panggilan.\",\n",
        "    \"Baterai jam tangan tahan lama dan mudah diisi ulang.\"\n",
        "]"
      ],
      "metadata": {
        "id": "mJsG2h2Ih5mJ"
      },
      "execution_count": 40,
      "outputs": []
    },
    {
      "cell_type": "code",
      "source": [
        "# Langkah 3: Menghitung Term Frequency dengan CountVectorizer\n",
        "# Inisialisasi CountVectorizer untuk menghitung frekuensi term\n",
        "vectorizer = CountVectorizer()\n",
        "X = vectorizer.fit_transform(list_dokumen)"
      ],
      "metadata": {
        "id": "l_296zdSh5pe"
      },
      "execution_count": 41,
      "outputs": []
    },
    {
      "cell_type": "code",
      "source": [
        "# Langkah 4: Menampilkan Unique Terms (Vocabulary) dengan Indeks\n",
        "print(\"Unique terms (Vocabulary):\\n\", vectorizer.get_feature_names_out())\n",
        "print(\"\\nVocabulary Dictionary:\")\n",
        "for term, index in vectorizer.vocabulary_.items():\n",
        "    print(f\"{term}: {index}\")"
      ],
      "metadata": {
        "colab": {
          "base_uri": "https://localhost:8080/"
        },
        "id": "Zq5zYTU2iM8Q",
        "outputId": "a6cb3f94-e17c-420e-a5de-900d590da971"
      },
      "execution_count": 42,
      "outputs": [
        {
          "output_type": "stream",
          "name": "stdout",
          "text": [
            "Unique terms (Vocabulary):\n",
            " ['baterai' 'bisa' 'dan' 'dengan' 'diisi' 'ini' 'jam' 'lama' 'memiliki'\n",
            " 'mudah' 'notifikasi' 'panggilan' 'pesan' 'ponsel' 'tahan' 'tangan'\n",
            " 'tersambung' 'ulang' 'untuk']\n",
            "\n",
            "Vocabulary Dictionary:\n",
            "jam: 6\n",
            "tangan: 15\n",
            "ini: 5\n",
            "bisa: 1\n",
            "tersambung: 16\n",
            "dengan: 3\n",
            "ponsel: 13\n",
            "memiliki: 8\n",
            "notifikasi: 10\n",
            "untuk: 18\n",
            "pesan: 12\n",
            "dan: 2\n",
            "panggilan: 11\n",
            "baterai: 0\n",
            "tahan: 14\n",
            "lama: 7\n",
            "mudah: 9\n",
            "diisi: 4\n",
            "ulang: 17\n"
          ]
        }
      ]
    },
    {
      "cell_type": "code",
      "source": [
        "# Langkah 5: Menampilkan Term Frequency secara Keseluruhan\n",
        "# Konversi hasil ke array untuk melihat nilai term frequency\n",
        "print(\"\\nTerm Frequency (TF) Matrix:\\n\", X.toarray())"
      ],
      "metadata": {
        "colab": {
          "base_uri": "https://localhost:8080/"
        },
        "id": "RjVPqDm1iM_h",
        "outputId": "a7711cd3-73db-4803-b0d3-24ca0b2bfbd3"
      },
      "execution_count": 43,
      "outputs": [
        {
          "output_type": "stream",
          "name": "stdout",
          "text": [
            "\n",
            "Term Frequency (TF) Matrix:\n",
            " [[0 1 0 1 0 1 1 0 0 0 0 0 0 1 0 1 1 0 0]\n",
            " [0 0 1 0 0 0 1 0 1 0 1 1 1 0 0 0 0 0 1]\n",
            " [1 0 1 0 1 0 1 1 0 1 0 0 0 0 1 1 0 1 0]]\n"
          ]
        }
      ]
    },
    {
      "cell_type": "code",
      "source": [
        "# Langkah 6: Transformasi Vocabulary Documents ke Matriks Term Frequency\n",
        "# Menampilkan hasil Transformasi dalam bentuk Matriks Term Frequency\n",
        "print(\"\\nMatriks Term Frequency untuk Dokumen-Dokumen:\\n\", X.toarray())"
      ],
      "metadata": {
        "colab": {
          "base_uri": "https://localhost:8080/"
        },
        "id": "9Vc6QcWLiNCG",
        "outputId": "827aeb36-1566-48f8-fec8-31df40cc52d4"
      },
      "execution_count": 44,
      "outputs": [
        {
          "output_type": "stream",
          "name": "stdout",
          "text": [
            "\n",
            "Matriks Term Frequency untuk Dokumen-Dokumen:\n",
            " [[0 1 0 1 0 1 1 0 0 0 0 0 0 1 0 1 1 0 0]\n",
            " [0 0 1 0 0 0 1 0 1 0 1 1 1 0 0 0 0 0 1]\n",
            " [1 0 1 0 1 0 1 1 0 1 0 0 0 0 1 1 0 1 0]]\n"
          ]
        }
      ]
    },
    {
      "cell_type": "code",
      "source": [
        "# Langkah 7: Menampilkan Term Frequency untuk Dokumen Tertentu\n",
        "# Misalnya, mengambil dokumen pertama (indeks ke-0)\n",
        "komentar_tf = X[0].toarray()  # Dokumen pertama dalam format matriks TF\n",
        "print(\"\\nTerm Frequency untuk Dokumen Pertama:\\n\", komentar_tf)"
      ],
      "metadata": {
        "colab": {
          "base_uri": "https://localhost:8080/"
        },
        "id": "0GYtc3y0h5sl",
        "outputId": "529ddd9e-3676-4d5a-9b52-19d7de25bb72"
      },
      "execution_count": 45,
      "outputs": [
        {
          "output_type": "stream",
          "name": "stdout",
          "text": [
            "\n",
            "Term Frequency untuk Dokumen Pertama:\n",
            " [[0 1 0 1 0 1 1 0 0 0 0 0 0 1 0 1 1 0 0]]\n"
          ]
        }
      ]
    },
    {
      "cell_type": "code",
      "source": [
        "# Menampilkan term tertentu berdasarkan indeks (misalnya, indeks ke-2 dari vocabulary)\n",
        "index_term = 2  # Indeks term tertentu\n",
        "term_name = vectorizer.get_feature_names_out()[index_term]\n",
        "print(f\"\\nTerm '{term_name}' pada Dokumen Pertama memiliki frekuensi:\", komentar_tf[0][index_term])"
      ],
      "metadata": {
        "colab": {
          "base_uri": "https://localhost:8080/"
        },
        "id": "wHBtZAJ_h5vX",
        "outputId": "fde8d57d-fb3c-4eaf-fd8b-092f8beea7ae"
      },
      "execution_count": 46,
      "outputs": [
        {
          "output_type": "stream",
          "name": "stdout",
          "text": [
            "\n",
            "Term 'dan' pada Dokumen Pertama memiliki frekuensi: 0\n"
          ]
        }
      ]
    },
    {
      "cell_type": "markdown",
      "source": [
        "# **MENGHITUNG TF-IDF MENGGUNAKAN SKLEARN**"
      ],
      "metadata": {
        "id": "bvM5Vs78idW4"
      }
    },
    {
      "cell_type": "code",
      "source": [
        "# Import Library yang Diperlukan\n",
        "from sklearn.feature_extraction.text import CountVectorizer, TfidfTransformer"
      ],
      "metadata": {
        "id": "B1K4ov1Zh4Mq"
      },
      "execution_count": 47,
      "outputs": []
    },
    {
      "cell_type": "code",
      "source": [
        "# Definisikan Dokumen dalam Bentuk List\n",
        "list_dokumen = [\n",
        "    \"Jam tangan ini bisa tersambung dengan ponsel.\",\n",
        "    \"Jam memiliki notifikasi untuk pesan dan panggilan.\",\n",
        "    \"Baterai jam tangan tahan lama dan mudah diisi ulang.\"\n",
        "]"
      ],
      "metadata": {
        "id": "-bWGGUtVihnk"
      },
      "execution_count": 48,
      "outputs": []
    },
    {
      "cell_type": "code",
      "source": [
        "# Menghitung Term Frequency dengan CountVectorizer\n",
        "vectorizer = CountVectorizer()\n",
        "X = vectorizer.fit_transform(list_dokumen)"
      ],
      "metadata": {
        "id": "CF9TQTBDihrG"
      },
      "execution_count": 49,
      "outputs": []
    },
    {
      "cell_type": "code",
      "source": [
        "# Menghitung TF-IDF dengan TfidfTransformer\n",
        "tfidf_transformer = TfidfTransformer()\n",
        "X_tfidf = tfidf_transformer.fit_transform(X)"
      ],
      "metadata": {
        "id": "779xepfwihuC"
      },
      "execution_count": 50,
      "outputs": []
    },
    {
      "cell_type": "code",
      "source": [
        "# 1. Menghitung Nilai TF-IDF untuk Dokumen/Kalimat Tertentu\n",
        "# Contoh, menghitung TF-IDF untuk dokumen pertama\n",
        "dokumen_pertama_tfidf = X_tfidf[0].toarray()\n",
        "print(\"TF-IDF untuk Dokumen Pertama:\\n\", dokumen_pertama_tfidf)"
      ],
      "metadata": {
        "colab": {
          "base_uri": "https://localhost:8080/"
        },
        "id": "WgqNXr9Kihw2",
        "outputId": "7d26dad5-7a9b-423b-fb83-c256320b9856"
      },
      "execution_count": 51,
      "outputs": [
        {
          "output_type": "stream",
          "name": "stdout",
          "text": [
            "TF-IDF untuk Dokumen Pertama:\n",
            " [[0.         0.41074684 0.         0.41074684 0.         0.41074684\n",
            "  0.2425937  0.         0.         0.         0.         0.\n",
            "  0.         0.41074684 0.         0.31238356 0.41074684 0.\n",
            "  0.        ]]\n"
          ]
        }
      ]
    },
    {
      "cell_type": "code",
      "source": [
        "# Menghitung nilai IDF untuk setiap term dan menampilkannya secara vertikal\n",
        "idf_values = tfidf_transformer.idf_\n",
        "terms = vectorizer.get_feature_names_out()\n",
        "idf_dict = dict(zip(terms, idf_values))\n",
        "\n",
        "print(\"\\nNilai IDF untuk Setiap Term:\")\n",
        "for term, idf_value in idf_dict.items():\n",
        "    print(f\"{term}: {idf_value}\")"
      ],
      "metadata": {
        "id": "3vZzc2LGihzy",
        "colab": {
          "base_uri": "https://localhost:8080/"
        },
        "outputId": "481189d2-2c5b-4c4e-c60e-8ef157a6f886"
      },
      "execution_count": 52,
      "outputs": [
        {
          "output_type": "stream",
          "name": "stdout",
          "text": [
            "\n",
            "Nilai IDF untuk Setiap Term:\n",
            "baterai: 1.6931471805599454\n",
            "bisa: 1.6931471805599454\n",
            "dan: 1.2876820724517808\n",
            "dengan: 1.6931471805599454\n",
            "diisi: 1.6931471805599454\n",
            "ini: 1.6931471805599454\n",
            "jam: 1.0\n",
            "lama: 1.6931471805599454\n",
            "memiliki: 1.6931471805599454\n",
            "mudah: 1.6931471805599454\n",
            "notifikasi: 1.6931471805599454\n",
            "panggilan: 1.6931471805599454\n",
            "pesan: 1.6931471805599454\n",
            "ponsel: 1.6931471805599454\n",
            "tahan: 1.6931471805599454\n",
            "tangan: 1.2876820724517808\n",
            "tersambung: 1.6931471805599454\n",
            "ulang: 1.6931471805599454\n",
            "untuk: 1.6931471805599454\n"
          ]
        }
      ]
    },
    {
      "cell_type": "code",
      "source": [
        "# 3. Menghitung Nilai IDF untuk Term Tertentu\n",
        "# Misalnya, IDF untuk term 'hotel'\n",
        "term = 'hotel'\n",
        "idf_term = idf_dict.get(term, \"Term tidak ditemukan\")\n",
        "print(f\"\\nIDF untuk term '{term}': {idf_term}\")"
      ],
      "metadata": {
        "colab": {
          "base_uri": "https://localhost:8080/"
        },
        "id": "YtJzsJCzir2-",
        "outputId": "37b2f15f-8980-44f2-ec6f-66208e228e6a"
      },
      "execution_count": 53,
      "outputs": [
        {
          "output_type": "stream",
          "name": "stdout",
          "text": [
            "\n",
            "IDF untuk term 'hotel': Term tidak ditemukan\n"
          ]
        }
      ]
    },
    {
      "cell_type": "code",
      "source": [
        "# 4. Menghitung Nilai TF-IDF untuk Seluruh Dokumen\n",
        "print(\"\\nTF-IDF untuk Seluruh Dokumen:\\n\", X_tfidf.toarray())"
      ],
      "metadata": {
        "colab": {
          "base_uri": "https://localhost:8080/"
        },
        "id": "qrMgapmRir7Q",
        "outputId": "da7d65d7-33c2-43cb-b67e-268684b5bac4"
      },
      "execution_count": 54,
      "outputs": [
        {
          "output_type": "stream",
          "name": "stdout",
          "text": [
            "\n",
            "TF-IDF untuk Seluruh Dokumen:\n",
            " [[0.         0.41074684 0.         0.41074684 0.         0.41074684\n",
            "  0.2425937  0.         0.         0.         0.         0.\n",
            "  0.         0.41074684 0.         0.31238356 0.41074684 0.\n",
            "  0.        ]\n",
            " [0.         0.         0.31238356 0.         0.         0.\n",
            "  0.2425937  0.         0.41074684 0.         0.41074684 0.41074684\n",
            "  0.41074684 0.         0.         0.         0.         0.\n",
            "  0.41074684]\n",
            " [0.36501149 0.         0.27760064 0.         0.36501149 0.\n",
            "  0.21558166 0.36501149 0.         0.36501149 0.         0.\n",
            "  0.         0.         0.36501149 0.27760064 0.         0.36501149\n",
            "  0.        ]]\n"
          ]
        }
      ]
    }
  ]
}